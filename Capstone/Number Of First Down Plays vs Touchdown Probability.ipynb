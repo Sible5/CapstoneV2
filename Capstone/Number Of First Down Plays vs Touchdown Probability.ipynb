{
 "cells": [
  {
   "cell_type": "code",
   "execution_count": 1,
   "metadata": {},
   "outputs": [],
   "source": [
    "import matplotlib.pyplot as plt\n",
    "import pandas as pd\n",
    "import xgboost as xgb\n",
    "import numpy\n",
    "from sklearn.model_selection import train_test_split\n",
    "from sklearn.metrics import plot_confusion_matrix\n",
    "from sklearn.model_selection import GridSearchCV\n",
    "import tkinter"
   ]
  },
  {
   "cell_type": "code",
   "execution_count": 2,
   "metadata": {},
   "outputs": [],
   "source": [
    "from tkinter import *  \n",
    "expression = \"\"\n"
   ]
  },
  {
   "cell_type": "code",
   "execution_count": 3,
   "metadata": {},
   "outputs": [],
   "source": [
    "from PIL import ImageTk,Image "
   ]
  },
  {
   "cell_type": "code",
   "execution_count": 4,
   "metadata": {},
   "outputs": [],
   "source": [
    "df = pd.read_csv(\"FinalCleaned.csv\")"
   ]
  },
  {
   "cell_type": "code",
   "execution_count": 5,
   "metadata": {},
   "outputs": [
    {
     "data": {
      "text/plain": [
       "GameAndDrive              int64\n",
       "FirstDowns                int64\n",
       "yards_gained              int64\n",
       "yards_per_first_down    float64\n",
       "touchdown               float64\n",
       "dtype: object"
      ]
     },
     "execution_count": 5,
     "metadata": {},
     "output_type": "execute_result"
    }
   ],
   "source": [
    "#Verifying the type of data contained in the cleaned File\n",
    "df.dtypes"
   ]
  },
  {
   "cell_type": "code",
   "execution_count": 6,
   "metadata": {},
   "outputs": [
    {
     "data": {
      "text/html": [
       "<div>\n",
       "<style scoped>\n",
       "    .dataframe tbody tr th:only-of-type {\n",
       "        vertical-align: middle;\n",
       "    }\n",
       "\n",
       "    .dataframe tbody tr th {\n",
       "        vertical-align: top;\n",
       "    }\n",
       "\n",
       "    .dataframe thead th {\n",
       "        text-align: right;\n",
       "    }\n",
       "</style>\n",
       "<table border=\"1\" class=\"dataframe\">\n",
       "  <thead>\n",
       "    <tr style=\"text-align: right;\">\n",
       "      <th></th>\n",
       "      <th>GameAndDrive</th>\n",
       "      <th>FirstDowns</th>\n",
       "      <th>yards_gained</th>\n",
       "      <th>yards_per_first_down</th>\n",
       "    </tr>\n",
       "  </thead>\n",
       "  <tbody>\n",
       "    <tr>\n",
       "      <th>0</th>\n",
       "      <td>20140904001</td>\n",
       "      <td>3</td>\n",
       "      <td>23</td>\n",
       "      <td>7.666667</td>\n",
       "    </tr>\n",
       "    <tr>\n",
       "      <th>1</th>\n",
       "      <td>20140904002</td>\n",
       "      <td>4</td>\n",
       "      <td>25</td>\n",
       "      <td>6.250000</td>\n",
       "    </tr>\n",
       "    <tr>\n",
       "      <th>2</th>\n",
       "      <td>20140904003</td>\n",
       "      <td>2</td>\n",
       "      <td>6</td>\n",
       "      <td>3.000000</td>\n",
       "    </tr>\n",
       "    <tr>\n",
       "      <th>3</th>\n",
       "      <td>20140904004</td>\n",
       "      <td>3</td>\n",
       "      <td>22</td>\n",
       "      <td>7.333333</td>\n",
       "    </tr>\n",
       "    <tr>\n",
       "      <th>4</th>\n",
       "      <td>20140904005</td>\n",
       "      <td>4</td>\n",
       "      <td>41</td>\n",
       "      <td>10.250000</td>\n",
       "    </tr>\n",
       "  </tbody>\n",
       "</table>\n",
       "</div>"
      ],
      "text/plain": [
       "   GameAndDrive  FirstDowns  yards_gained  yards_per_first_down\n",
       "0   20140904001           3            23              7.666667\n",
       "1   20140904002           4            25              6.250000\n",
       "2   20140904003           2             6              3.000000\n",
       "3   20140904004           3            22              7.333333\n",
       "4   20140904005           4            41             10.250000"
      ]
     },
     "execution_count": 6,
     "metadata": {},
     "output_type": "execute_result"
    }
   ],
   "source": [
    "X = df.drop('touchdown',axis =1 ).copy()\n",
    "X.head()"
   ]
  },
  {
   "cell_type": "code",
   "execution_count": 7,
   "metadata": {},
   "outputs": [
    {
     "data": {
      "text/plain": [
       "0    0.0\n",
       "1    0.0\n",
       "2    0.0\n",
       "3    1.0\n",
       "4    0.0\n",
       "Name: touchdown, dtype: float64"
      ]
     },
     "execution_count": 7,
     "metadata": {},
     "output_type": "execute_result"
    }
   ],
   "source": [
    "y = df['touchdown'].copy()\n",
    "y.head()"
   ]
  },
  {
   "cell_type": "code",
   "execution_count": 8,
   "metadata": {},
   "outputs": [
    {
     "data": {
      "text/plain": [
       "0.1284134900428975"
      ]
     },
     "execution_count": 8,
     "metadata": {},
     "output_type": "execute_result"
    }
   ],
   "source": [
    "sum(y)/len(y)"
   ]
  },
  {
   "cell_type": "code",
   "execution_count": 9,
   "metadata": {},
   "outputs": [],
   "source": [
    "X_train, X_test,y_train,y_test = train_test_split(X,y,random_state = 42,stratify =y)"
   ]
  },
  {
   "cell_type": "code",
   "execution_count": 10,
   "metadata": {},
   "outputs": [
    {
     "name": "stdout",
     "output_type": "stream",
     "text": [
      "[0]\tvalidation_0-aucpr:0.27239\n",
      "[1]\tvalidation_0-aucpr:0.26298\n",
      "[2]\tvalidation_0-aucpr:0.26200\n",
      "[3]\tvalidation_0-aucpr:0.26816\n",
      "[4]\tvalidation_0-aucpr:0.26742\n",
      "[5]\tvalidation_0-aucpr:0.26777\n",
      "[6]\tvalidation_0-aucpr:0.26837\n",
      "[7]\tvalidation_0-aucpr:0.26651\n",
      "[8]\tvalidation_0-aucpr:0.26485\n",
      "[9]\tvalidation_0-aucpr:0.26518\n"
     ]
    },
    {
     "name": "stderr",
     "output_type": "stream",
     "text": [
      "D:\\Anaconda\\lib\\site-packages\\xgboost\\sklearn.py:888: UserWarning: The use of label encoder in XGBClassifier is deprecated and will be removed in a future release. To remove this warning, do the following: 1) Pass option use_label_encoder=False when constructing XGBClassifier object; and 2) Encode your labels (y) as integers starting with 0, i.e. 0, 1, 2, ..., [num_class - 1].\n",
      "  warnings.warn(label_encoder_deprecation_msg, UserWarning)\n"
     ]
    },
    {
     "data": {
      "text/plain": [
       "XGBClassifier(base_score=0.5, booster='gbtree', colsample_bylevel=1,\n",
       "              colsample_bynode=1, colsample_bytree=1, gamma=0, gpu_id=-1,\n",
       "              importance_type='gain', interaction_constraints='',\n",
       "              learning_rate=0.300000012, max_delta_step=0, max_depth=6,\n",
       "              min_child_weight=1, missing=None, monotone_constraints='()',\n",
       "              n_estimators=100, n_jobs=4, num_parallel_tree=1, random_state=42,\n",
       "              reg_alpha=0, reg_lambda=1, scale_pos_weight=1, seed=42,\n",
       "              subsample=1, tree_method='exact', validate_parameters=1,\n",
       "              verbosity=None)"
      ]
     },
     "execution_count": 10,
     "metadata": {},
     "output_type": "execute_result"
    }
   ],
   "source": [
    "nfl_xgb = xgb.XGBClassifier(objective = 'binary:logistic',missing=None,seed=42)\n",
    "nfl_xgb.fit(X_train,\n",
    "           y_train,\n",
    "           verbose=True,\n",
    "           early_stopping_rounds=10,\n",
    "           eval_metric='aucpr',\n",
    "           eval_set=[(X_test,y_test)])"
   ]
  },
  {
   "cell_type": "code",
   "execution_count": 11,
   "metadata": {},
   "outputs": [],
   "source": [
    "##plot_confusion_matrix(nfl_xgb,\n",
    "                ##     X_test,\n",
    "                   ##  y_test,\n",
    "                    ## values_format='d',\n",
    "                    ## display_labels=[\"noTD\",\"TD\"])"
   ]
  },
  {
   "cell_type": "code",
   "execution_count": 12,
   "metadata": {},
   "outputs": [],
   "source": [
    "##Round1\n",
    "param_grid = {\n",
    "    'max_depth':[3,4,5],\n",
    "    'learning_rate':[0.1,0.5,1],\n",
    "    'gamma':[0.25],\n",
    "    'reg_lambda':[10,20,100],\n",
    "    'scale_pos_weight':[3]\n",
    "}"
   ]
  },
  {
   "cell_type": "code",
   "execution_count": 13,
   "metadata": {},
   "outputs": [],
   "source": [
    "best_params = GridSearchCV(\n",
    "    estimator=xgb.XGBClassifier(objective= 'binary:logistic',\n",
    "                              seed = 42,\n",
    "                              subsample=0.9),\n",
    "    param_grid = param_grid,\n",
    "scoring='roc_auc',\n",
    "verbose = 0,\n",
    "n_jobs= 10,\n",
    "cv=3)"
   ]
  },
  {
   "cell_type": "code",
   "execution_count": 14,
   "metadata": {},
   "outputs": [
    {
     "name": "stdout",
     "output_type": "stream",
     "text": [
      "{'gamma': 0.25, 'learning_rate': 0.1, 'max_depth': 3, 'reg_lambda': 10, 'scale_pos_weight': 3}\n"
     ]
    },
    {
     "name": "stderr",
     "output_type": "stream",
     "text": [
      "D:\\Anaconda\\lib\\site-packages\\xgboost\\sklearn.py:888: UserWarning: The use of label encoder in XGBClassifier is deprecated and will be removed in a future release. To remove this warning, do the following: 1) Pass option use_label_encoder=False when constructing XGBClassifier object; and 2) Encode your labels (y) as integers starting with 0, i.e. 0, 1, 2, ..., [num_class - 1].\n",
      "  warnings.warn(label_encoder_deprecation_msg, UserWarning)\n"
     ]
    }
   ],
   "source": [
    "best_params.fit(X_train,y_train,early_stopping_rounds = 10,eval_metric = 'auc',eval_set = [(X_test,y_test)],verbose =False)\n",
    "print(best_params.best_params_)"
   ]
  },
  {
   "cell_type": "code",
   "execution_count": 15,
   "metadata": {},
   "outputs": [
    {
     "name": "stdout",
     "output_type": "stream",
     "text": [
      "[13:44:43] WARNING: ..\\src\\learner.cc:541: \n",
      "Parameters: { learn_rate } might not be used.\n",
      "\n",
      "  This may not be accurate due to some parameters are only used in language bindings but\n",
      "  passed down to XGBoost core.  Or some parameters are not used but slip through this\n",
      "  verification. Please open an issue if you find above cases.\n",
      "\n",
      "\n",
      "[0]\tvalidation_0-aucpr:0.27064\n",
      "[1]\tvalidation_0-aucpr:0.28325\n",
      "[2]\tvalidation_0-aucpr:0.28325\n",
      "[3]\tvalidation_0-aucpr:0.28340\n",
      "[4]\tvalidation_0-aucpr:0.28816\n",
      "[5]\tvalidation_0-aucpr:0.28830\n",
      "[6]\tvalidation_0-aucpr:0.28563\n",
      "[7]\tvalidation_0-aucpr:0.28337\n",
      "[8]\tvalidation_0-aucpr:0.28596\n",
      "[9]\tvalidation_0-aucpr:0.28507\n",
      "[10]\tvalidation_0-aucpr:0.28660\n",
      "[11]\tvalidation_0-aucpr:0.28771\n",
      "[12]\tvalidation_0-aucpr:0.28739\n",
      "[13]\tvalidation_0-aucpr:0.28807\n",
      "[14]\tvalidation_0-aucpr:0.28800\n",
      "[15]\tvalidation_0-aucpr:0.28640\n",
      "[16]\tvalidation_0-aucpr:0.28658\n",
      "[17]\tvalidation_0-aucpr:0.28629\n",
      "[18]\tvalidation_0-aucpr:0.28858\n",
      "[19]\tvalidation_0-aucpr:0.28678\n",
      "[20]\tvalidation_0-aucpr:0.28639\n",
      "[21]\tvalidation_0-aucpr:0.28694\n",
      "[22]\tvalidation_0-aucpr:0.28738\n",
      "[23]\tvalidation_0-aucpr:0.28755\n",
      "[24]\tvalidation_0-aucpr:0.28741\n",
      "[25]\tvalidation_0-aucpr:0.28618\n",
      "[26]\tvalidation_0-aucpr:0.28590\n",
      "[27]\tvalidation_0-aucpr:0.28670\n",
      "[28]\tvalidation_0-aucpr:0.28597\n",
      "[29]\tvalidation_0-aucpr:0.28618\n",
      "[30]\tvalidation_0-aucpr:0.28534\n",
      "[31]\tvalidation_0-aucpr:0.28538\n",
      "[32]\tvalidation_0-aucpr:0.28540\n",
      "[33]\tvalidation_0-aucpr:0.28541\n",
      "[34]\tvalidation_0-aucpr:0.28606\n",
      "[35]\tvalidation_0-aucpr:0.28591\n",
      "[36]\tvalidation_0-aucpr:0.28633\n",
      "[37]\tvalidation_0-aucpr:0.28619\n"
     ]
    },
    {
     "data": {
      "text/plain": [
       "XGBClassifier(base_score=0.5, booster='gbtree', colsample_bylevel=1,\n",
       "              colsample_bynode=1, colsample_bytree=1, gamma=0.25, gpu_id=-1,\n",
       "              importance_type='gain', interaction_constraints='',\n",
       "              learn_rate=0.1, learning_rate=0.300000012, max_delta_step=0,\n",
       "              max_depth=3, min_child_weight=1, missing=nan,\n",
       "              monotone_constraints='()', n_estimators=100, n_jobs=4,\n",
       "              num_parallel_tree=1, random_state=42, reg_alpha=0, reg_lambda=10,\n",
       "              scale_pos_weight=3, seed=42, subsample=1, tree_method='exact',\n",
       "              validate_parameters=1, verbosity=None)"
      ]
     },
     "execution_count": 15,
     "metadata": {},
     "output_type": "execute_result"
    }
   ],
   "source": [
    "nflB_xgb = xgb.XGBClassifier(seed=42,\n",
    "                            objective='binary:logistic',\n",
    "                            gamma=0.25,\n",
    "                            learn_rate=0.1,\n",
    "                            max_depth=3,\n",
    "                            reg_lambda=10,\n",
    "                            scale_pos_weight=3,\n",
    "                            )\n",
    "nflB_xgb.fit(X_train,\n",
    "            y_train,\n",
    "            verbose=True,\n",
    "            early_stopping_rounds=20,\n",
    "            eval_metric='aucpr',\n",
    "            eval_set=[(X_test,y_test)])"
   ]
  },
  {
   "cell_type": "code",
   "execution_count": 16,
   "metadata": {},
   "outputs": [],
   "source": [
    "#plot_confusion_matrix(nflB_xgb,\n",
    "                    # X_test,\n",
    "                     #y_test,\n",
    "                    # values_format='d',\n",
    "                     #display_labels=[\"noTD\",\"TD\"])"
   ]
  },
  {
   "cell_type": "code",
   "execution_count": 17,
   "metadata": {},
   "outputs": [
    {
     "name": "stdout",
     "output_type": "stream",
     "text": [
      "[13:44:43] WARNING: ..\\src\\learner.cc:541: \n",
      "Parameters: { learn_rate } might not be used.\n",
      "\n",
      "  This may not be accurate due to some parameters are only used in language bindings but\n",
      "  passed down to XGBoost core.  Or some parameters are not used but slip through this\n",
      "  verification. Please open an issue if you find above cases.\n",
      "\n",
      "\n",
      "[13:44:43] WARNING: ..\\src\\learner.cc:1061: Starting in XGBoost 1.3.0, the default evaluation metric used with the objective 'binary:logistic' was changed from 'error' to 'logloss'. Explicitly set eval_metric if you'd like to restore the old behavior.\n"
     ]
    },
    {
     "data": {
      "text/plain": [
       "XGBClassifier(base_score=0.5, booster='gbtree', colsample_bylevel=1,\n",
       "              colsample_bynode=1, colsample_bytree=1, gamma=0.25, gpu_id=-1,\n",
       "              importance_type='gain', interaction_constraints='',\n",
       "              learn_rate=0.1, learning_rate=0.300000012, max_delta_step=0,\n",
       "              max_depth=3, min_child_weight=1, missing=nan,\n",
       "              monotone_constraints='()', n_estimators=1, n_jobs=4,\n",
       "              num_parallel_tree=1, random_state=42, reg_alpha=0, reg_lambda=10,\n",
       "              scale_pos_weight=3, seed=42, subsample=1, tree_method='exact',\n",
       "              validate_parameters=1, verbosity=None)"
      ]
     },
     "execution_count": 17,
     "metadata": {},
     "output_type": "execute_result"
    }
   ],
   "source": [
    "nflB_xgb = xgb.XGBClassifier(seed=42,\n",
    "                            objective='binary:logistic',\n",
    "                            gamma=0.25,\n",
    "                            learn_rate=0.1,\n",
    "                            max_depth=3,\n",
    "                            reg_lambda=10,\n",
    "                            scale_pos_weight=3,\n",
    "                            n_estimators=1)\n",
    "nflB_xgb.fit(X_train,\n",
    "            y_train)\n"
   ]
  },
  {
   "cell_type": "code",
   "execution_count": 18,
   "metadata": {},
   "outputs": [
    {
     "name": "stdout",
     "output_type": "stream",
     "text": [
      "weight  {'FirstDowns': 4, 'yards_gained': 3}\n",
      "gain  {'FirstDowns': 854.063236925, 'yards_gained': 66.44072991333333}\n",
      "cover  {'FirstDowns': 3725.25, 'yards_gained': 1789.5}\n",
      "total_gain  {'FirstDowns': 3416.2529477, 'yards_gained': 199.32218974}\n",
      "total_cover  {'FirstDowns': 14901.0, 'yards_gained': 5368.5}\n"
     ]
    }
   ],
   "source": [
    "bst = nflB_xgb.get_booster()\n",
    "for importance_type in ('weight', 'gain', 'cover','total_gain','total_cover'):\n",
    "    print('%s ' % importance_type, bst.get_score(importance_type = importance_type))\n",
    "    \n",
    "node_params= {'shape':'box',\n",
    "             'style':'filled, rounded',\n",
    "             'fillcolor':'#e48037'}    \n",
    "leaf_params= {'shape':'box',\n",
    "             'style':'filled, rounded',\n",
    "             'fillcolor':'#e48037'}\n",
    "\n",
    "imageTree = xgb.to_graphviz(nflB_xgb,num_trees = 0, size = \"10,10\",condition_node_params=node_params,\n",
    "                leaf_node_params = leaf_params)"
   ]
  },
  {
   "cell_type": "code",
   "execution_count": 19,
   "metadata": {},
   "outputs": [
    {
     "data": {
      "text/plain": [
       "'TreeGraph.png'"
      ]
     },
     "execution_count": 19,
     "metadata": {},
     "output_type": "execute_result"
    }
   ],
   "source": [
    "format = 'png'\n",
    "imageTree.graph_attr = {'dpi':'400'}\n",
    "\n",
    "imageTree.render('TreeGraph', format = format)"
   ]
  },
  {
   "cell_type": "code",
   "execution_count": 20,
   "metadata": {},
   "outputs": [],
   "source": [
    "dfFirstDownsTD = df.groupby(['FirstDowns'],as_index = False)['touchdown'].sum()"
   ]
  },
  {
   "cell_type": "code",
   "execution_count": 21,
   "metadata": {},
   "outputs": [],
   "source": [
    "dfFDTS = pd.DataFrame(dfFirstDownsTD['FirstDowns'])\n",
    "dfFDTS['touchdown'] = dfFirstDownsTD['touchdown']"
   ]
  },
  {
   "cell_type": "code",
   "execution_count": 22,
   "metadata": {},
   "outputs": [
    {
     "data": {
      "image/png": "[encoded data removed]",
      "text/plain": [
       "<Figure size 432x288 with 1 Axes>"
      ]
     },
     "metadata": {
      "needs_background": "light"
     },
     "output_type": "display_data"
    }
   ],
   "source": [
    "plt.bar(dfFDTS['FirstDowns'],dfFDTS['touchdown'])\n",
    "plt.xlabel('First Downs per Drive')\n",
    "plt.ylabel('Total Touchdowns')\n",
    "plt.title('First Down plays per Drive vs Touchdowns')\n",
    "plt.savefig(\"FirstDownsVsTD.png\")"
   ]
  },
  {
   "cell_type": "code",
   "execution_count": 23,
   "metadata": {},
   "outputs": [],
   "source": [
    "dfFirstDownsYards = df.groupby(['yards_gained'],as_index = False)['touchdown'].sum()"
   ]
  },
  {
   "cell_type": "code",
   "execution_count": 24,
   "metadata": {},
   "outputs": [
    {
     "data": {
      "image/png": "[encoded data removed]",
      "text/plain": [
       "<Figure size 432x288 with 1 Axes>"
      ]
     },
     "metadata": {
      "needs_background": "light"
     },
     "output_type": "display_data"
    }
   ],
   "source": [
    "plt.bar(dfFirstDownsYards['yards_gained'],dfFirstDownsYards['touchdown'])\n",
    "plt.xlabel('Yards Gained on First Down Plays')\n",
    "plt.ylabel('Total Touchdowns')\n",
    "plt.title('Yards Gained on First Down (per drive) vs Touchdowns')\n",
    "plt.savefig(\"YardsGainedVsTD.png\")"
   ]
  },
  {
   "cell_type": "code",
   "execution_count": 25,
   "metadata": {},
   "outputs": [],
   "source": [
    "#Yards Per First Down Play\n",
    "dfYDPFD = df.groupby(['yards_per_first_down'],as_index = False)['touchdown'].sum()"
   ]
  },
  {
   "cell_type": "code",
   "execution_count": 26,
   "metadata": {},
   "outputs": [
    {
     "data": {
      "image/png": "[encoded data removed]",
      "text/plain": [
       "<Figure size 432x288 with 1 Axes>"
      ]
     },
     "metadata": {
      "needs_background": "light"
     },
     "output_type": "display_data"
    }
   ],
   "source": [
    "plt.bar(dfYDPFD['yards_per_first_down'],dfYDPFD['touchdown'])\n",
    "plt.xlabel('Average Yards Gained on First Down Plays Per Drive')\n",
    "plt.ylabel('Total Touchdowns')\n",
    "plt.title('Average Yards Gained Per Play on First Down (per drive) vs Touchdowns')\n",
    "plt.savefig(\"YardsPerPlay.png\")"
   ]
  },
  {
   "cell_type": "code",
   "execution_count": 27,
   "metadata": {},
   "outputs": [],
   "source": [
    "#this is a command to create the extra window to view the tree\n",
    "#Run this cell again if you close out of the application accidentally\n",
    "def create_window():\n",
    "    newWindow = tkinter.Toplevel(window)\n",
    "    newWindow.geometry(\"1600x600\")\n",
    "    Label(newWindow,text = \"Tree Generated by XGBoost Model\").pack()\n",
    "    \n",
    "    newLabel= ImageTk.PhotoImage(imgTree)\n",
    "    label4 = tkinter.Label(image=newLabel)\n",
    "    label4.image = newLabel\n",
    "    Label(newWindow,image=newLabel).pack()\n",
    "    Label(newWindow,text = \"This tree shows that the strongest predictor to Touchdown scoring rate is having more than 6 First Down Plays on that drive.\").pack()\n",
    "    \n",
    "window = Tk()\n",
    "window.geometry(\"1400x600\")\n",
    "window.title(\"Touchdown Probability\")\n",
    "\n",
    "img1 = Image.open('FirstDownsVsTD.png')\n",
    "img2 = Image.open('YardsGainedVsTD.png')\n",
    "img3 = Image.open('YardsPerPlay.png')\n",
    "imgTree = Image.open('TreeGraph.png')\n",
    "                     \n",
    "test= ImageTk.PhotoImage(img1)\n",
    "label1 = tkinter.Label(image=test)\n",
    "label1.image = test\n",
    "\n",
    "test2= ImageTk.PhotoImage(img2)\n",
    "label2 = tkinter.Label(image=test2)\n",
    "label2.image = test2\n",
    "\n",
    "test3= ImageTk.PhotoImage(img3)\n",
    "label3 = tkinter.Label(image=test3)\n",
    "label3.image = test3\n",
    "\n",
    "\n",
    "\n",
    "label1.place(x=50,y=50)\n",
    "label2.place(x=450,y=50)\n",
    "label3.place(x=850,y=50)\n",
    "\n",
    "\n",
    "    \n",
    "btn = tkinter.Button(window,text=\"Click Here to View The Tree Generated by the Machine Learning Model\",command=create_window)\n",
    "btn.pack()\n",
    "\n",
    "\n",
    "window.mainloop()"
   ]
  },
  {
   "cell_type": "code",
   "execution_count": null,
   "metadata": {},
   "outputs": [],
   "source": []
  },
  {
   "cell_type": "code",
   "execution_count": null,
   "metadata": {},
   "outputs": [],
   "source": []
  },
  {
   "cell_type": "code",
   "execution_count": null,
   "metadata": {},
   "outputs": [],
   "source": []
  }
 ],
 "metadata": {
  "kernelspec": {
   "display_name": "Python 3",
   "language": "python",
   "name": "python3"
  },
  "language_info": {
   "codemirror_mode": {
    "name": "ipython",
    "version": 3
   },
   "file_extension": ".py",
   "mimetype": "text/x-python",
   "name": "python",
   "nbconvert_exporter": "python",
   "pygments_lexer": "ipython3",
   "version": "3.8.5"
  }
 },
 "nbformat": 4,
 "nbformat_minor": 4
}
